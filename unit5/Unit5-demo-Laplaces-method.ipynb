{
 "cells": [
  {
   "cell_type": "code",
   "execution_count": 12,
   "id": "52454ea1",
   "metadata": {},
   "outputs": [
    {
     "name": "stdout",
     "output_type": "stream",
     "text": [
      "The lab_black extension is already loaded. To reload it, use:\n",
      "  %reload_ext lab_black\n"
     ]
    }
   ],
   "source": [
    "import matplotlib.pyplot as plt\n",
    "import numpy as np\n",
    "from scipy.stats import gamma, norm\n",
    "from scipy.optimize import minimize_scalar\n",
    "\n",
    "%load_ext lab_black"
   ]
  },
  {
   "cell_type": "markdown",
   "id": "8a69bd05",
   "metadata": {
    "tags": []
   },
   "source": [
    "# 4. Laplace's Method Demo*\n",
    "\n",
    "## Steps\n",
    "\n",
    "As we learned in the last lecture, these are the steps to Laplace approximation:\n",
    "\n",
    "1. **Find the mode**.\n",
    "\n",
    "The mean of the approximating normal distribution will be the mode, or maximum a posteriori probability (MAP) solution, of the posterior.\n",
    "\n",
    "We solve for the MAP by maximizing the unnormalized posterior with respect to $\\theta$ or by maximizing the log of the unnormalized posterior:\n",
    "\n",
    "$$\\hat{\\theta} = \\arg\\max_\\theta \\log(g(\\theta))=\\arg\\max_\\theta\\log(f(x|\\theta)\\pi(\\theta))$$\n",
    "\n",
    "2. **Find the variance**.\n",
    "\n",
    "In the lecture notation:\n",
    "\n",
    "$$Q = - \\left[ \\frac{\\partial^2 \\log(g(\\theta))}{\\partial \\theta^2}\\right]^{-1}_{\\theta=\\hat{\\theta}}$$\n",
    "\n",
    "3. **Normal approximation**: \n",
    "\n",
    "The Laplace approximation to the posterior is a normal distribution with mean $\\hat{\\theta}$ and variance $Q^{-1}$:\n",
    "\n",
    "$$g(\\theta|x) \\approx N(\\hat{\\theta},Q^{-1})$$"
   ]
  },
  {
   "cell_type": "markdown",
   "id": "370f4042-0db3-4e2c-8992-2919cfe2a9ac",
   "metadata": {
    "tags": []
   },
   "source": [
    "## Example 1\n",
    "\n",
    "From [Unit 5: laplace.m](https://raw.githubusercontent.com/areding/6420-pymc/main/original_examples/Codes4Unit5/laplace.m).\n",
    "\n",
    "Here's our example model:\n",
    "\n",
    "\\begin{align*}\n",
    "x|\\theta & \\sim Ga(r, \\theta) \\\\\n",
    "\\theta & \\sim Ga(\\alpha, \\beta)\n",
    "\\end{align*}\n",
    "\n",
    "Since this is a conjugate model, we already know the exact posterior is $Ga(r+\\alpha - 1, \\beta +x)$. We know the mode is $\\frac{r + \\alpha - 1}{\\beta + x}$, but let's pretend we don't."
   ]
  },
  {
   "cell_type": "markdown",
   "id": "2b1d6322-9576-40f9-8a5c-59fc6c4818f1",
   "metadata": {},
   "source": [
    "\\begin{align*}\n",
    "f(x|\\theta)\\pi(\\theta) &\\propto x^{r-1}e^{-\\theta x}\\theta^{\\alpha-1}e^{-\\beta \\theta} \\\\\n",
    " &\\propto \\theta^{r + \\alpha -1}e^{-(\\beta + x)\\theta}\n",
    "\\end{align*}"
   ]
  },
  {
   "cell_type": "markdown",
   "id": "93eb52f0-cde7-43bb-b5a7-70aef0769f1a",
   "metadata": {},
   "source": [
    "### Mode\n",
    "In this case it's not too tough to find the mode analytically.\n",
    "\n",
    "The log-likelihood is $L(\\theta) = (r + \\alpha - 1)\\log(\\theta) - (\\beta + x)\\theta$, so we can just take the derivative and set it equal to zero, then solve for $\\theta$:\n",
    "\n",
    "\\begin{align*}\n",
    "\\frac{d}{d\\theta} L(\\theta) &= \\frac{d}{d\\theta} \\left[(r + \\alpha - 1)\\log(\\theta) - (\\beta + x)\\theta\\right] \\\\\n",
    "&= \\frac{r + \\alpha - 1}{\\theta} - (\\beta + x) \\\\\n",
    "0 &= \\frac{r + \\alpha - 1}{\\theta} - (\\beta + x) \\\\\n",
    "\\beta + x &= \\frac{r + \\alpha - 1}{\\theta} \\\\\n",
    "\\theta &= \\frac{r + \\alpha - 1}{\\beta + x}\n",
    "\\end{align*}\n",
    "\n",
    "For this example our given parameters are $r=20, \\alpha=5, \\beta=1, x=2$, so our mode is equal to $8$.\n",
    "\n",
    "We could also use optimization:"
   ]
  },
  {
   "cell_type": "code",
   "execution_count": 15,
   "id": "462bf7d0-356f-4b8c-8b9f-2adf4c3c21a6",
   "metadata": {},
   "outputs": [
    {
     "name": "stdout",
     "output_type": "stream",
     "text": [
      "Mode: 8.000001689177818\n"
     ]
    }
   ],
   "source": [
    "# define our posterior\n",
    "def neg_log_likelihood(θ, r, α, β, x):\n",
    "    return -((r + α - 1) * np.log(θ) - (β + x) * θ)\n",
    "\n",
    "\n",
    "r, α, β, x = 20, 5, 1, 2\n",
    "\n",
    "result = minimize_scalar(\n",
    "    neg_log_likelihood, bounds=(0, 1e6), args=(r, α, β, x), method=\"bounded\"\n",
    ")\n",
    "\n",
    "mode = result.x\n",
    "\n",
    "print(f\"Mode: {mode}\")"
   ]
  },
  {
   "cell_type": "markdown",
   "id": "3c86555d-4034-465d-8c7a-64b47f4ad732",
   "metadata": {},
   "source": [
    "### Variance\n",
    "\n",
    "The true variance of the posterior is $\\frac{r+\\alpha - 1}{(\\beta + x)^2}$.\n",
    "\n",
    "The approximation distribution's variance will be: \n",
    "\n",
    "$$Q^{-1} = - \\left[ \\frac{\\partial^2 L(\\theta)}{\\partial\\theta^2}\\right]^{-1}_{\\theta=\\hat{\\theta}} = \\left(\\frac{\\alpha + r -1}{{\\hat\\theta}^2}\\right)^{-1}$$\n",
    "\n",
    "$$$$"
   ]
  },
  {
   "cell_type": "markdown",
   "id": "7e78d71a-79a1-4101-97fb-903e3431f2a2",
   "metadata": {},
   "source": [
    "### Compare the true posterior with the approximation"
   ]
  },
  {
   "cell_type": "code",
   "execution_count": 23,
   "id": "7ebf3fd6",
   "metadata": {},
   "outputs": [
    {
     "name": "stdout",
     "output_type": "stream",
     "text": [
      "Exact 95% credible interval: (5.392893949276442, 11.903365864584403)\n",
      "Laplace approximation 95% credible interval: (4.799393229141485, 11.20061014921415)\n"
     ]
    },
    {
     "data": {
      "image/png": "[encoded data removed]",
      "text/plain": [
       "<Figure size 640x480 with 1 Axes>"
      ]
     },
     "metadata": {},
     "output_type": "display_data"
    }
   ],
   "source": [
    "xx = np.linspace(0, 16, 100000)\n",
    "\n",
    "variance = (mode**2) / (α + r - 1)\n",
    "\n",
    "# normal parameters\n",
    "mu = mode\n",
    "sigma = variance**0.5\n",
    "\n",
    "# gamma parameters\n",
    "shape = r + α\n",
    "scale = 1 / (β + x)\n",
    "\n",
    "exact = gamma.pdf(xx, a=shape, scale=scale)\n",
    "approx = norm.pdf(xx, mu, sigma)\n",
    "\n",
    "# credible intervals\n",
    "exact_ci = gamma.ppf(0.025, a=shape, scale=scale), gamma.ppf(\n",
    "    0.975, a=shape, scale=scale\n",
    ")\n",
    "approx_ci = norm.ppf(0.025, mu, sigma), norm.ppf(0.975, mu, sigma)\n",
    "\n",
    "print(f\"Exact 95% credible interval: {exact_ci}\")\n",
    "print(f\"Laplace approximation 95% credible interval: {approx_ci}\")\n",
    "\n",
    "plt.plot(xx, exact, label=\"Exact\")\n",
    "plt.plot(xx, approx, label=\"Laplace approx.\")\n",
    "plt.legend()\n",
    "plt.show()"
   ]
  },
  {
   "cell_type": "code",
   "execution_count": 4,
   "id": "a32dd354",
   "metadata": {},
   "outputs": [
    {
     "name": "stdout",
     "output_type": "stream",
     "text": [
      "Last updated: Thu Jul 13 2023\n",
      "\n",
      "Python implementation: CPython\n",
      "Python version       : 3.11.0\n",
      "IPython version      : 8.9.0\n",
      "\n",
      "matplotlib: 3.6.3\n",
      "numpy     : 1.24.2\n",
      "\n"
     ]
    }
   ],
   "source": [
    "%load_ext watermark\n",
    "%watermark -n -u -v -iv"
   ]
  }
 ],
 "metadata": {
  "kernelspec": {
   "display_name": "Python 3 (ipykernel)",
   "language": "python",
   "name": "python3"
  },
  "language_info": {
   "codemirror_mode": {
    "name": "ipython",
    "version": 3
   },
   "file_extension": ".py",
   "mimetype": "text/x-python",
   "name": "python",
   "nbconvert_exporter": "python",
   "pygments_lexer": "ipython3",
   "version": "3.11.0"
  }
 },
 "nbformat": 4,
 "nbformat_minor": 5
}
