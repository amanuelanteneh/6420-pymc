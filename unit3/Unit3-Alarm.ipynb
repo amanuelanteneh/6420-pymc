{
 "cells": [
  {
   "cell_type": "code",
   "execution_count": 1,
   "id": "3367a53d",
   "metadata": {
    "tags": [
     "hide_output"
    ]
   },
   "outputs": [],
   "source": [
    "import matplotlib.pyplot as plt\n",
    "import networkx as nx\n",
    "from pgmpy.factors.discrete import TabularCPD\n",
    "from pgmpy.inference import CausalInference\n",
    "from pgmpy.models import BayesianNetwork\n",
    "\n",
    "%load_ext lab_black\n",
    "%load_ext watermark"
   ]
  },
  {
   "cell_type": "markdown",
   "id": "9bc224e2",
   "metadata": {},
   "source": [
    "# Demo&mdash;Alarm\n",
    "From [Unit 3 - alarm.odc](https://raw.githubusercontent.com/areding/6420-pymc/main/original_examples/Codes4Unit3/alarm.odc).\n",
    "\n",
    "Associated lecture videos: Unit 3 Lesson 7 and Lesson 8\n",
    "\n",
    "-------------------------"
   ]
  },
  {
   "cell_type": "markdown",
   "id": "d6f1d5f4",
   "metadata": {},
   "source": [
    "Your house has an alarm system against burglary. The house is located in the seismically active area and the alarm system can get occasionally set off by an earthquake. You have two neighbors, Mary and John, who do not know each other. If they hear the alarm they call you, but this is not guaranteed. They also call you from time to time just to chat. The BUGS code provides an approximate solution for conditional  distributions of nodes given the evidence.\n",
    "\n",
    "1. Find the probability John calls given an earthquake.\n",
    "\n",
    "2. Find the probability that there was an earthquake given John has called.\n",
    "\n",
    "3. Find the probability of an earthquake given John has not called and Mary has called.\n",
    "\n",
    "Practice: Find the probability that there was a burglary given an alarm has gone off and Mary has not called.\n",
    "\n",
    "Here's a pgmpy solution based on the nearly identical example at https://pgmpy.org/examples/Earthquake.html."
   ]
  },
  {
   "cell_type": "code",
   "execution_count": 2,
   "id": "ca557ab5",
   "metadata": {},
   "outputs": [
    {
     "name": "stdout",
     "output_type": "stream",
     "text": [
      "Nodes: ['Burglary', 'Alarm', 'Earthquake', 'JohnCalls', 'MaryCalls']\n",
      "Edges: [('Burglary', 'Alarm'), ('Alarm', 'JohnCalls'), ('Alarm', 'MaryCalls'), ('Earthquake', 'Alarm')]\n"
     ]
    }
   ],
   "source": [
    "# Defining network structure\n",
    "alarm_model = BayesianNetwork(\n",
    "    [\n",
    "        (\"Burglary\", \"Alarm\"),\n",
    "        (\"Earthquake\", \"Alarm\"),\n",
    "        (\"Alarm\", \"JohnCalls\"),\n",
    "        (\"Alarm\", \"MaryCalls\"),\n",
    "    ]\n",
    ")\n",
    "\n",
    "# Defining the parameters\n",
    "cpd_burglary = TabularCPD(\n",
    "    variable=\"Burglary\", variable_card=2, values=[[0.999], [0.001]]\n",
    ")\n",
    "\n",
    "cpd_earthquake = TabularCPD(\n",
    "    variable=\"Earthquake\", variable_card=2, values=[[0.998], [0.002]]\n",
    ")\n",
    "\n",
    "cpd_alarm = TabularCPD(\n",
    "    variable=\"Alarm\",\n",
    "    variable_card=2,\n",
    "    values=[[0.999, 0.71, 0.06, 0.05], [0.001, 0.29, 0.94, 0.95]],\n",
    "    evidence=[\"Burglary\", \"Earthquake\"],\n",
    "    evidence_card=[2, 2],\n",
    ")\n",
    "\n",
    "cpd_marycalls = TabularCPD(\n",
    "    variable=\"MaryCalls\",\n",
    "    variable_card=2,\n",
    "    values=[[0.99, 0.30], [0.01, 0.70]],\n",
    "    evidence=[\"Alarm\"],\n",
    "    evidence_card=[2],\n",
    ")\n",
    "\n",
    "cpd_johncalls = TabularCPD(\n",
    "    variable=\"JohnCalls\",\n",
    "    variable_card=2,\n",
    "    values=[[0.95, 0.1], [0.05, 0.9]],\n",
    "    evidence=[\"Alarm\"],\n",
    "    evidence_card=[2],\n",
    ")\n",
    "\n",
    "# Associating the parameters with the model structure\n",
    "alarm_model.add_cpds(\n",
    "    cpd_burglary, cpd_earthquake, cpd_alarm, cpd_johncalls, cpd_marycalls\n",
    ")\n",
    "\n",
    "alarm_model.check_model()\n",
    "\n",
    "print(f\"Nodes: {alarm_model.nodes()}\")\n",
    "print(f\"Edges: {alarm_model.edges()}\")"
   ]
  },
  {
   "cell_type": "code",
   "execution_count": 3,
   "id": "f32ef85f",
   "metadata": {},
   "outputs": [
    {
     "data": {
      "image/png": "[encoded data removed]",
      "text/plain": [
       "<Figure size 432x288 with 1 Axes>"
      ]
     },
     "metadata": {},
     "output_type": "display_data"
    }
   ],
   "source": [
    "# plot the network\n",
    "\n",
    "options = {\n",
    "    \"arrowsize\": 40,\n",
    "    \"font_size\": 8,\n",
    "    \"font_weight\": \"bold\",\n",
    "    \"node_size\": 4000,\n",
    "    \"node_color\": \"white\",\n",
    "    \"edgecolors\": \"black\",\n",
    "    \"linewidths\": 2,\n",
    "    \"width\": 5,\n",
    "    \"alpha\": 0.9,\n",
    "}\n",
    "\n",
    "nx.draw_circular(alarm_model, with_labels=True, **options)\n",
    "# Set margins for the axes so that nodes aren't clipped\n",
    "ax = plt.gca()\n",
    "ax.margins(0.20)\n",
    "plt.axis(\"off\")\n",
    "plt.show()"
   ]
  },
  {
   "cell_type": "code",
   "execution_count": 4,
   "id": "b5698079",
   "metadata": {},
   "outputs": [
    {
     "name": "stdout",
     "output_type": "stream",
     "text": [
      "P(J|E):\n",
      "+--------------+------------------+\n",
      "| JohnCalls    |   phi(JohnCalls) |\n",
      "+==============+==================+\n",
      "| JohnCalls(0) |           0.7029 |\n",
      "+--------------+------------------+\n",
      "| JohnCalls(1) |           0.2971 |\n",
      "+--------------+------------------+\n",
      "P(E|J):\n",
      "+---------------+-------------------+\n",
      "| Earthquake    |   phi(Earthquake) |\n",
      "+===============+===================+\n",
      "| Earthquake(0) |            0.9886 |\n",
      "+---------------+-------------------+\n",
      "| Earthquake(1) |            0.0114 |\n",
      "+---------------+-------------------+\n",
      "P(E|J^c, M):\n",
      "+---------------+-------------------+\n",
      "| Earthquake    |   phi(Earthquake) |\n",
      "+===============+===================+\n",
      "| Earthquake(0) |            0.9944 |\n",
      "+---------------+-------------------+\n",
      "| Earthquake(1) |            0.0056 |\n",
      "+---------------+-------------------+\n",
      "P(B|A, M^c):\n",
      "+-------------+-----------------+\n",
      "| Burglary    |   phi(Burglary) |\n",
      "+=============+=================+\n",
      "| Burglary(0) |          0.6264 |\n",
      "+-------------+-----------------+\n",
      "| Burglary(1) |          0.3736 |\n",
      "+-------------+-----------------+\n"
     ]
    }
   ],
   "source": [
    "alarm_infer = CausalInference(alarm_model)\n",
    "\n",
    "# probability John calls given an earthquake.\n",
    "q = alarm_infer.query(variables=[\"JohnCalls\"], evidence={\"Earthquake\": True})\n",
    "print(\"P(J|E):\")\n",
    "print(q)\n",
    "\n",
    "# probability that there was an earthquake given John has called.\n",
    "q = alarm_infer.query(variables=[\"Earthquake\"], evidence={\"JohnCalls\": True})\n",
    "print(\"P(E|J):\")\n",
    "print(q)\n",
    "\n",
    "# probability of an earthquake given John has not called and Mary has called.\n",
    "q = alarm_infer.query(\n",
    "    variables=[\"Earthquake\"], evidence={\"JohnCalls\": False, \"MaryCalls\": True}\n",
    ")\n",
    "print(\"P(E|J^c, M):\")\n",
    "print(q)\n",
    "\n",
    "# probability of a burglary given an alarm and that Mary has not called.\n",
    "q = alarm_infer.query(\n",
    "    variables=[\"Burglary\"], evidence={\"Alarm\": True, \"MaryCalls\": False}\n",
    ")\n",
    "print(\"P(B|A, M^c):\")\n",
    "print(q)"
   ]
  },
  {
   "cell_type": "code",
   "execution_count": 8,
   "id": "3e199c30",
   "metadata": {},
   "outputs": [
    {
     "name": "stdout",
     "output_type": "stream",
     "text": [
      "Python implementation: CPython\n",
      "Python version       : 3.10.4\n",
      "IPython version      : 8.4.0\n",
      "\n",
      "networkx  : 2.8.3\n",
      "matplotlib: 3.5.2\n",
      "\n"
     ]
    }
   ],
   "source": [
    "%watermark -n -u -v -iv"
   ]
  }
 ],
 "metadata": {
  "kernelspec": {
   "display_name": "Python 3 (ipykernel)",
   "language": "python",
   "name": "python3"
  },
  "language_info": {
   "codemirror_mode": {
    "name": "ipython",
    "version": 3
   },
   "file_extension": ".py",
   "mimetype": "text/x-python",
   "name": "python",
   "nbconvert_exporter": "python",
   "pygments_lexer": "ipython3",
   "version": "3.11.0"
  }
 },
 "nbformat": 4,
 "nbformat_minor": 5
}
